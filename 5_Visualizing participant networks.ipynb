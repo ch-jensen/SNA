{
 "cells": [
  {
   "cell_type": "markdown",
   "metadata": {},
   "source": [
    "# Visualizing participant networks\n",
    "\n",
    "This notebook is designed to help interpretation of the roles of participants in a network. If the role cannot be directly be derived from the structure of the network but depends on the quality of actual interactions, we need to be able to extract information on the interactions and agency levels invested in these interactions.\n",
    "\n",
    "This notebook, therefore, contains a number of diverse functions that help visualizing and sorting interactions in order to assist interpreting the roles of the participants."
   ]
  },
  {
   "cell_type": "code",
   "execution_count": 1,
   "metadata": {},
   "outputs": [
    {
     "name": "stdout",
     "output_type": "stream",
     "text": [
      "Warning: uncompiled fa2util module.  Compile with cython for a 10-100x speed boost.\n"
     ]
    }
   ],
   "source": [
    "import collections\n",
    "import pandas as pd\n",
    "import numpy as np\n",
    "import networkx as nx\n",
    "import forceatlas2\n",
    "import random\n",
    "\n",
    "from matplotlib import pyplot as plt\n",
    "import matplotlib.cm as cm\n",
    "import seaborn as sns"
   ]
  },
  {
   "cell_type": "markdown",
   "metadata": {},
   "source": [
    "Network data"
   ]
  },
  {
   "cell_type": "code",
   "execution_count": 2,
   "metadata": {},
   "outputs": [],
   "source": [
    "data = pd.read_excel('Lev17-26.edges.Static.xlsx')"
   ]
  },
  {
   "cell_type": "markdown",
   "metadata": {},
   "source": [
    "## Participants and clusters"
   ]
  },
  {
   "cell_type": "code",
   "execution_count": 3,
   "metadata": {},
   "outputs": [],
   "source": [
    "G = nx.MultiDiGraph()\n",
    "for n, row in data.iterrows():\n",
    "    if row['Source'] != row['Target']: #Ignoring selfloops, e,g., \"YHWH\" > \"YHWH\"\n",
    "        G.add_edge(row.Source, row.Target, value=row.Label)"
   ]
  },
  {
   "cell_type": "markdown",
   "metadata": {},
   "source": [
    "#### Who has most relationships?"
   ]
  },
  {
   "cell_type": "code",
   "execution_count": 4,
   "metadata": {
    "scrolled": true
   },
   "outputs": [
    {
     "data": {
      "text/html": [
       "<div>\n",
       "<style scoped>\n",
       "    .dataframe tbody tr th:only-of-type {\n",
       "        vertical-align: middle;\n",
       "    }\n",
       "\n",
       "    .dataframe tbody tr th {\n",
       "        vertical-align: top;\n",
       "    }\n",
       "\n",
       "    .dataframe thead th {\n",
       "        text-align: right;\n",
       "    }\n",
       "</style>\n",
       "<table border=\"1\" class=\"dataframe\">\n",
       "  <thead>\n",
       "    <tr style=\"text-align: right;\">\n",
       "      <th></th>\n",
       "      <th>0</th>\n",
       "    </tr>\n",
       "  </thead>\n",
       "  <tbody>\n",
       "    <tr>\n",
       "      <th>2MSg</th>\n",
       "      <td>27</td>\n",
       "    </tr>\n",
       "    <tr>\n",
       "      <th>Israelites</th>\n",
       "      <td>26</td>\n",
       "    </tr>\n",
       "    <tr>\n",
       "      <th>an_Israelite</th>\n",
       "      <td>21</td>\n",
       "    </tr>\n",
       "    <tr>\n",
       "      <th>sojourner</th>\n",
       "      <td>19</td>\n",
       "    </tr>\n",
       "    <tr>\n",
       "      <th>YHWH</th>\n",
       "      <td>15</td>\n",
       "    </tr>\n",
       "    <tr>\n",
       "      <th>Aaron</th>\n",
       "      <td>13</td>\n",
       "    </tr>\n",
       "    <tr>\n",
       "      <th>Aaron's_sons</th>\n",
       "      <td>9</td>\n",
       "    </tr>\n",
       "    <tr>\n",
       "      <th>brother</th>\n",
       "      <td>7</td>\n",
       "    </tr>\n",
       "    <tr>\n",
       "      <th>Moses</th>\n",
       "      <td>6</td>\n",
       "    </tr>\n",
       "    <tr>\n",
       "      <th>father</th>\n",
       "      <td>5</td>\n",
       "    </tr>\n",
       "    <tr>\n",
       "      <th>mother</th>\n",
       "      <td>5</td>\n",
       "    </tr>\n",
       "    <tr>\n",
       "      <th>idols</th>\n",
       "      <td>5</td>\n",
       "    </tr>\n",
       "    <tr>\n",
       "      <th>kinsmen</th>\n",
       "      <td>5</td>\n",
       "    </tr>\n",
       "    <tr>\n",
       "      <th>fellow's_wife</th>\n",
       "      <td>4</td>\n",
       "    </tr>\n",
       "    <tr>\n",
       "      <th>sister</th>\n",
       "      <td>4</td>\n",
       "    </tr>\n",
       "    <tr>\n",
       "      <th>aunt-in-law</th>\n",
       "      <td>4</td>\n",
       "    </tr>\n",
       "    <tr>\n",
       "      <th>daughter-in-law</th>\n",
       "      <td>4</td>\n",
       "    </tr>\n",
       "    <tr>\n",
       "      <th>blasphemer</th>\n",
       "      <td>4</td>\n",
       "    </tr>\n",
       "    <tr>\n",
       "      <th>group_of_people</th>\n",
       "      <td>4</td>\n",
       "    </tr>\n",
       "    <tr>\n",
       "      <th>offspring</th>\n",
       "      <td>4</td>\n",
       "    </tr>\n",
       "    <tr>\n",
       "      <th>father's_wife</th>\n",
       "      <td>4</td>\n",
       "    </tr>\n",
       "    <tr>\n",
       "      <th>widowed/expelled/defiled_woman</th>\n",
       "      <td>3</td>\n",
       "    </tr>\n",
       "    <tr>\n",
       "      <th>human_being</th>\n",
       "      <td>3</td>\n",
       "    </tr>\n",
       "    <tr>\n",
       "      <th>corpse</th>\n",
       "      <td>3</td>\n",
       "    </tr>\n",
       "    <tr>\n",
       "      <th>woman_and_her_mother</th>\n",
       "      <td>3</td>\n",
       "    </tr>\n",
       "    <tr>\n",
       "      <th>handmaid</th>\n",
       "      <td>3</td>\n",
       "    </tr>\n",
       "    <tr>\n",
       "      <th>male</th>\n",
       "      <td>3</td>\n",
       "    </tr>\n",
       "    <tr>\n",
       "      <th>woman_in_menstruation</th>\n",
       "      <td>3</td>\n",
       "    </tr>\n",
       "    <tr>\n",
       "      <th>granddaughter</th>\n",
       "      <td>2</td>\n",
       "    </tr>\n",
       "    <tr>\n",
       "      <th>aunt</th>\n",
       "      <td>2</td>\n",
       "    </tr>\n",
       "    <tr>\n",
       "      <th>daughter</th>\n",
       "      <td>2</td>\n",
       "    </tr>\n",
       "    <tr>\n",
       "      <th>remnants</th>\n",
       "      <td>2</td>\n",
       "    </tr>\n",
       "    <tr>\n",
       "      <th>foreign_nations</th>\n",
       "      <td>2</td>\n",
       "    </tr>\n",
       "    <tr>\n",
       "      <th>witnesses</th>\n",
       "      <td>2</td>\n",
       "    </tr>\n",
       "    <tr>\n",
       "      <th>lay-person</th>\n",
       "      <td>2</td>\n",
       "    </tr>\n",
       "    <tr>\n",
       "      <th>no-one</th>\n",
       "      <td>1</td>\n",
       "    </tr>\n",
       "    <tr>\n",
       "      <th>rich</th>\n",
       "      <td>1</td>\n",
       "    </tr>\n",
       "    <tr>\n",
       "      <th>man</th>\n",
       "      <td>1</td>\n",
       "    </tr>\n",
       "    <tr>\n",
       "      <th>brother's_uncle</th>\n",
       "      <td>1</td>\n",
       "    </tr>\n",
       "    <tr>\n",
       "      <th>clan</th>\n",
       "      <td>1</td>\n",
       "    </tr>\n",
       "    <tr>\n",
       "      <th>brother's_brother</th>\n",
       "      <td>1</td>\n",
       "    </tr>\n",
       "    <tr>\n",
       "      <th>sister_of_woman</th>\n",
       "      <td>1</td>\n",
       "    </tr>\n",
       "    <tr>\n",
       "      <th>granddaughter_of_woman</th>\n",
       "      <td>1</td>\n",
       "    </tr>\n",
       "    <tr>\n",
       "      <th>woman_and_her_daughter</th>\n",
       "      <td>1</td>\n",
       "    </tr>\n",
       "    <tr>\n",
       "      <th>son_of_brother</th>\n",
       "      <td>1</td>\n",
       "    </tr>\n",
       "    <tr>\n",
       "      <th>woman</th>\n",
       "      <td>1</td>\n",
       "    </tr>\n",
       "    <tr>\n",
       "      <th>elderly</th>\n",
       "      <td>1</td>\n",
       "    </tr>\n",
       "    <tr>\n",
       "      <th>deaf</th>\n",
       "      <td>1</td>\n",
       "    </tr>\n",
       "    <tr>\n",
       "      <th>blind</th>\n",
       "      <td>1</td>\n",
       "    </tr>\n",
       "    <tr>\n",
       "      <th>children</th>\n",
       "      <td>1</td>\n",
       "    </tr>\n",
       "    <tr>\n",
       "      <th>poor</th>\n",
       "      <td>1</td>\n",
       "    </tr>\n",
       "    <tr>\n",
       "      <th>2MPl</th>\n",
       "      <td>1</td>\n",
       "    </tr>\n",
       "    <tr>\n",
       "      <th>relative</th>\n",
       "      <td>1</td>\n",
       "    </tr>\n",
       "    <tr>\n",
       "      <th>purchaser</th>\n",
       "      <td>1</td>\n",
       "    </tr>\n",
       "    <tr>\n",
       "      <th>man/woman</th>\n",
       "      <td>1</td>\n",
       "    </tr>\n",
       "    <tr>\n",
       "      <th>virgin</th>\n",
       "      <td>1</td>\n",
       "    </tr>\n",
       "    <tr>\n",
       "      <th>slave</th>\n",
       "      <td>1</td>\n",
       "    </tr>\n",
       "    <tr>\n",
       "      <th>sons_of_sojourners</th>\n",
       "      <td>1</td>\n",
       "    </tr>\n",
       "    <tr>\n",
       "      <th>husband</th>\n",
       "      <td>1</td>\n",
       "    </tr>\n",
       "  </tbody>\n",
       "</table>\n",
       "</div>"
      ],
      "text/plain": [
       "                                 0\n",
       "2MSg                            27\n",
       "Israelites                      26\n",
       "an_Israelite                    21\n",
       "sojourner                       19\n",
       "YHWH                            15\n",
       "Aaron                           13\n",
       "Aaron's_sons                     9\n",
       "brother                          7\n",
       "Moses                            6\n",
       "father                           5\n",
       "mother                           5\n",
       "idols                            5\n",
       "kinsmen                          5\n",
       "fellow's_wife                    4\n",
       "sister                           4\n",
       "aunt-in-law                      4\n",
       "daughter-in-law                  4\n",
       "blasphemer                       4\n",
       "group_of_people                  4\n",
       "offspring                        4\n",
       "father's_wife                    4\n",
       "widowed/expelled/defiled_woman   3\n",
       "human_being                      3\n",
       "corpse                           3\n",
       "woman_and_her_mother             3\n",
       "handmaid                         3\n",
       "male                             3\n",
       "woman_in_menstruation            3\n",
       "granddaughter                    2\n",
       "aunt                             2\n",
       "daughter                         2\n",
       "remnants                         2\n",
       "foreign_nations                  2\n",
       "witnesses                        2\n",
       "lay-person                       2\n",
       "no-one                           1\n",
       "rich                             1\n",
       "man                              1\n",
       "brother's_uncle                  1\n",
       "clan                             1\n",
       "brother's_brother                1\n",
       "sister_of_woman                  1\n",
       "granddaughter_of_woman           1\n",
       "woman_and_her_daughter           1\n",
       "son_of_brother                   1\n",
       "woman                            1\n",
       "elderly                          1\n",
       "deaf                             1\n",
       "blind                            1\n",
       "children                         1\n",
       "poor                             1\n",
       "2MPl                             1\n",
       "relative                         1\n",
       "purchaser                        1\n",
       "man/woman                        1\n",
       "virgin                           1\n",
       "slave                            1\n",
       "sons_of_sojourners               1\n",
       "husband                          1"
      ]
     },
     "execution_count": 4,
     "metadata": {},
     "output_type": "execute_result"
    }
   ],
   "source": [
    "rel_dict = {}\n",
    "\n",
    "for n in G.nodes():\n",
    "    rel_dict[n] = len(nx.ego_graph(G, n, undirected=True))-1\n",
    "    \n",
    "pd.DataFrame([rel_dict]).T.sort_values(by=0, ascending=False)"
   ]
  },
  {
   "cell_type": "code",
   "execution_count": 5,
   "metadata": {},
   "outputs": [
    {
     "ename": "NameError",
     "evalue": "name 'G1' is not defined",
     "output_type": "error",
     "traceback": [
      "\u001b[1;31m---------------------------------------------------------------------------\u001b[0m",
      "\u001b[1;31mNameError\u001b[0m                                 Traceback (most recent call last)",
      "\u001b[1;32mC:\\Users\\CHRIST~1\\AppData\\Local\\Temp/ipykernel_17628/1541195487.py\u001b[0m in \u001b[0;36m<module>\u001b[1;34m\u001b[0m\n\u001b[1;32m----> 1\u001b[1;33m \u001b[0ma\u001b[0m \u001b[1;33m=\u001b[0m \u001b[0mnx\u001b[0m\u001b[1;33m.\u001b[0m\u001b[0mego_graph\u001b[0m\u001b[1;33m(\u001b[0m\u001b[0mG1\u001b[0m\u001b[1;33m,\u001b[0m \u001b[1;34m'sojourner'\u001b[0m\u001b[1;33m,\u001b[0m \u001b[0mundirected\u001b[0m\u001b[1;33m=\u001b[0m\u001b[1;32mTrue\u001b[0m\u001b[1;33m)\u001b[0m\u001b[1;33m\u001b[0m\u001b[1;33m\u001b[0m\u001b[0m\n\u001b[0m\u001b[0;32m      2\u001b[0m \u001b[0mb\u001b[0m \u001b[1;33m=\u001b[0m \u001b[0mnx\u001b[0m\u001b[1;33m.\u001b[0m\u001b[0mego_graph\u001b[0m\u001b[1;33m(\u001b[0m\u001b[0mG1\u001b[0m\u001b[1;33m,\u001b[0m \u001b[1;34m'Israelites'\u001b[0m\u001b[1;33m,\u001b[0m \u001b[0mundirected\u001b[0m\u001b[1;33m=\u001b[0m\u001b[1;32mTrue\u001b[0m\u001b[1;33m)\u001b[0m\u001b[1;33m\u001b[0m\u001b[1;33m\u001b[0m\u001b[0m\n\u001b[0;32m      3\u001b[0m \u001b[1;32mfor\u001b[0m \u001b[0mn\u001b[0m \u001b[1;32min\u001b[0m \u001b[0ma\u001b[0m\u001b[1;33m.\u001b[0m\u001b[0mnodes\u001b[0m\u001b[1;33m(\u001b[0m\u001b[1;33m)\u001b[0m\u001b[1;33m:\u001b[0m\u001b[1;33m\u001b[0m\u001b[1;33m\u001b[0m\u001b[0m\n\u001b[0;32m      4\u001b[0m     \u001b[1;32mif\u001b[0m \u001b[0mn\u001b[0m \u001b[1;32mnot\u001b[0m \u001b[1;32min\u001b[0m \u001b[0mb\u001b[0m\u001b[1;33m.\u001b[0m\u001b[0mnodes\u001b[0m\u001b[1;33m(\u001b[0m\u001b[1;33m)\u001b[0m\u001b[1;33m:\u001b[0m\u001b[1;33m\u001b[0m\u001b[1;33m\u001b[0m\u001b[0m\n\u001b[0;32m      5\u001b[0m         \u001b[0mprint\u001b[0m\u001b[1;33m(\u001b[0m\u001b[0mn\u001b[0m\u001b[1;33m)\u001b[0m\u001b[1;33m\u001b[0m\u001b[1;33m\u001b[0m\u001b[0m\n",
      "\u001b[1;31mNameError\u001b[0m: name 'G1' is not defined"
     ]
    }
   ],
   "source": [
    "a = nx.ego_graph(G1, 'sojourner', undirected=True)\n",
    "b = nx.ego_graph(G1, 'Israelites', undirected=True)\n",
    "for n in a.nodes():\n",
    "    if n not in b.nodes():\n",
    "        print(n)"
   ]
  },
  {
   "cell_type": "markdown",
   "metadata": {},
   "source": [
    "#### Which clusters of participants do the relations belong to?"
   ]
  },
  {
   "cell_type": "code",
   "execution_count": 6,
   "metadata": {
    "scrolled": true
   },
   "outputs": [
    {
     "data": {
      "text/html": [
       "<div>\n",
       "<style scoped>\n",
       "    .dataframe tbody tr th:only-of-type {\n",
       "        vertical-align: middle;\n",
       "    }\n",
       "\n",
       "    .dataframe tbody tr th {\n",
       "        vertical-align: top;\n",
       "    }\n",
       "\n",
       "    .dataframe thead th {\n",
       "        text-align: right;\n",
       "    }\n",
       "</style>\n",
       "<table border=\"1\" class=\"dataframe\">\n",
       "  <thead>\n",
       "    <tr style=\"text-align: right;\">\n",
       "      <th></th>\n",
       "      <th>cluster</th>\n",
       "    </tr>\n",
       "  </thead>\n",
       "  <tbody>\n",
       "    <tr>\n",
       "      <th>Aaron's_sons</th>\n",
       "      <td>2</td>\n",
       "    </tr>\n",
       "    <tr>\n",
       "      <th>Israelites</th>\n",
       "      <td>2</td>\n",
       "    </tr>\n",
       "    <tr>\n",
       "      <th>an_Israelite</th>\n",
       "      <td>2</td>\n",
       "    </tr>\n",
       "    <tr>\n",
       "      <th>Aaron</th>\n",
       "      <td>2</td>\n",
       "    </tr>\n",
       "    <tr>\n",
       "      <th>sojourner</th>\n",
       "      <td>2</td>\n",
       "    </tr>\n",
       "    <tr>\n",
       "      <th>2msg</th>\n",
       "      <td>2</td>\n",
       "    </tr>\n",
       "    <tr>\n",
       "      <th>YHWH</th>\n",
       "      <td>2</td>\n",
       "    </tr>\n",
       "    <tr>\n",
       "      <th>group_of_people</th>\n",
       "      <td>1</td>\n",
       "    </tr>\n",
       "    <tr>\n",
       "      <th>daughter</th>\n",
       "      <td>1</td>\n",
       "    </tr>\n",
       "    <tr>\n",
       "      <th>fellow's_wife</th>\n",
       "      <td>1</td>\n",
       "    </tr>\n",
       "    <tr>\n",
       "      <th>sister</th>\n",
       "      <td>1</td>\n",
       "    </tr>\n",
       "    <tr>\n",
       "      <th>brother</th>\n",
       "      <td>1</td>\n",
       "    </tr>\n",
       "    <tr>\n",
       "      <th>human_being</th>\n",
       "      <td>1</td>\n",
       "    </tr>\n",
       "    <tr>\n",
       "      <th>idols</th>\n",
       "      <td>1</td>\n",
       "    </tr>\n",
       "    <tr>\n",
       "      <th>kinsmen</th>\n",
       "      <td>1</td>\n",
       "    </tr>\n",
       "    <tr>\n",
       "      <th>Moses</th>\n",
       "      <td>1</td>\n",
       "    </tr>\n",
       "    <tr>\n",
       "      <th>blasphemer</th>\n",
       "      <td>1</td>\n",
       "    </tr>\n",
       "    <tr>\n",
       "      <th>remnants</th>\n",
       "      <td>1</td>\n",
       "    </tr>\n",
       "    <tr>\n",
       "      <th>foreign_nations</th>\n",
       "      <td>1</td>\n",
       "    </tr>\n",
       "    <tr>\n",
       "      <th>2mpl</th>\n",
       "      <td>0</td>\n",
       "    </tr>\n",
       "    <tr>\n",
       "      <th>elderly</th>\n",
       "      <td>0</td>\n",
       "    </tr>\n",
       "    <tr>\n",
       "      <th>purchaser</th>\n",
       "      <td>0</td>\n",
       "    </tr>\n",
       "    <tr>\n",
       "      <th>relative</th>\n",
       "      <td>0</td>\n",
       "    </tr>\n",
       "    <tr>\n",
       "      <th>poor</th>\n",
       "      <td>0</td>\n",
       "    </tr>\n",
       "    <tr>\n",
       "      <th>deaf</th>\n",
       "      <td>0</td>\n",
       "    </tr>\n",
       "    <tr>\n",
       "      <th>blind</th>\n",
       "      <td>0</td>\n",
       "    </tr>\n",
       "    <tr>\n",
       "      <th>rich</th>\n",
       "      <td>0</td>\n",
       "    </tr>\n",
       "    <tr>\n",
       "      <th>woman</th>\n",
       "      <td>0</td>\n",
       "    </tr>\n",
       "    <tr>\n",
       "      <th>male</th>\n",
       "      <td>0</td>\n",
       "    </tr>\n",
       "    <tr>\n",
       "      <th>son_of_brother</th>\n",
       "      <td>0</td>\n",
       "    </tr>\n",
       "    <tr>\n",
       "      <th>woman_and_her_daughter</th>\n",
       "      <td>0</td>\n",
       "    </tr>\n",
       "    <tr>\n",
       "      <th>granddaughter_of_woman</th>\n",
       "      <td>0</td>\n",
       "    </tr>\n",
       "    <tr>\n",
       "      <th>sister_of_woman</th>\n",
       "      <td>0</td>\n",
       "    </tr>\n",
       "    <tr>\n",
       "      <th>brother's_brother</th>\n",
       "      <td>0</td>\n",
       "    </tr>\n",
       "    <tr>\n",
       "      <th>clan</th>\n",
       "      <td>0</td>\n",
       "    </tr>\n",
       "    <tr>\n",
       "      <th>brother's_uncle</th>\n",
       "      <td>0</td>\n",
       "    </tr>\n",
       "    <tr>\n",
       "      <th>man</th>\n",
       "      <td>0</td>\n",
       "    </tr>\n",
       "    <tr>\n",
       "      <th>woman_in_menstruation</th>\n",
       "      <td>0</td>\n",
       "    </tr>\n",
       "    <tr>\n",
       "      <th>granddaughter</th>\n",
       "      <td>0</td>\n",
       "    </tr>\n",
       "    <tr>\n",
       "      <th>man/woman</th>\n",
       "      <td>0</td>\n",
       "    </tr>\n",
       "    <tr>\n",
       "      <th>woman_and_her_mother</th>\n",
       "      <td>0</td>\n",
       "    </tr>\n",
       "    <tr>\n",
       "      <th>witnesses</th>\n",
       "      <td>0</td>\n",
       "    </tr>\n",
       "    <tr>\n",
       "      <th>father</th>\n",
       "      <td>0</td>\n",
       "    </tr>\n",
       "    <tr>\n",
       "      <th>mother</th>\n",
       "      <td>0</td>\n",
       "    </tr>\n",
       "    <tr>\n",
       "      <th>virgin</th>\n",
       "      <td>0</td>\n",
       "    </tr>\n",
       "    <tr>\n",
       "      <th>widowed/expelled/defiled_woman</th>\n",
       "      <td>0</td>\n",
       "    </tr>\n",
       "    <tr>\n",
       "      <th>offspring</th>\n",
       "      <td>0</td>\n",
       "    </tr>\n",
       "    <tr>\n",
       "      <th>slave</th>\n",
       "      <td>0</td>\n",
       "    </tr>\n",
       "    <tr>\n",
       "      <th>handmaid</th>\n",
       "      <td>0</td>\n",
       "    </tr>\n",
       "    <tr>\n",
       "      <th>sons_of_sojourners</th>\n",
       "      <td>0</td>\n",
       "    </tr>\n",
       "    <tr>\n",
       "      <th>children</th>\n",
       "      <td>0</td>\n",
       "    </tr>\n",
       "    <tr>\n",
       "      <th>no-one</th>\n",
       "      <td>0</td>\n",
       "    </tr>\n",
       "    <tr>\n",
       "      <th>corpse</th>\n",
       "      <td>0</td>\n",
       "    </tr>\n",
       "    <tr>\n",
       "      <th>father's_wife</th>\n",
       "      <td>0</td>\n",
       "    </tr>\n",
       "    <tr>\n",
       "      <th>aunt</th>\n",
       "      <td>0</td>\n",
       "    </tr>\n",
       "    <tr>\n",
       "      <th>aunt-in-law</th>\n",
       "      <td>0</td>\n",
       "    </tr>\n",
       "    <tr>\n",
       "      <th>daughter-in-law</th>\n",
       "      <td>0</td>\n",
       "    </tr>\n",
       "    <tr>\n",
       "      <th>lay-person</th>\n",
       "      <td>0</td>\n",
       "    </tr>\n",
       "    <tr>\n",
       "      <th>husband</th>\n",
       "      <td>0</td>\n",
       "    </tr>\n",
       "  </tbody>\n",
       "</table>\n",
       "</div>"
      ],
      "text/plain": [
       "                                cluster\n",
       "Aaron's_sons                          2\n",
       "Israelites                            2\n",
       "an_Israelite                          2\n",
       "Aaron                                 2\n",
       "sojourner                             2\n",
       "2msg                                  2\n",
       "YHWH                                  2\n",
       "group_of_people                       1\n",
       "daughter                              1\n",
       "fellow's_wife                         1\n",
       "sister                                1\n",
       "brother                               1\n",
       "human_being                           1\n",
       "idols                                 1\n",
       "kinsmen                               1\n",
       "Moses                                 1\n",
       "blasphemer                            1\n",
       "remnants                              1\n",
       "foreign_nations                       1\n",
       "2mpl                                  0\n",
       "elderly                               0\n",
       "purchaser                             0\n",
       "relative                              0\n",
       "poor                                  0\n",
       "deaf                                  0\n",
       "blind                                 0\n",
       "rich                                  0\n",
       "woman                                 0\n",
       "male                                  0\n",
       "son_of_brother                        0\n",
       "woman_and_her_daughter                0\n",
       "granddaughter_of_woman                0\n",
       "sister_of_woman                       0\n",
       "brother's_brother                     0\n",
       "clan                                  0\n",
       "brother's_uncle                       0\n",
       "man                                   0\n",
       "woman_in_menstruation                 0\n",
       "granddaughter                         0\n",
       "man/woman                             0\n",
       "woman_and_her_mother                  0\n",
       "witnesses                             0\n",
       "father                                0\n",
       "mother                                0\n",
       "virgin                                0\n",
       "widowed/expelled/defiled_woman        0\n",
       "offspring                             0\n",
       "slave                                 0\n",
       "handmaid                              0\n",
       "sons_of_sojourners                    0\n",
       "children                              0\n",
       "no-one                                0\n",
       "corpse                                0\n",
       "father's_wife                         0\n",
       "aunt                                  0\n",
       "aunt-in-law                           0\n",
       "daughter-in-law                       0\n",
       "lay-person                            0\n",
       "husband                               0"
      ]
     },
     "execution_count": 6,
     "metadata": {},
     "output_type": "execute_result"
    }
   ],
   "source": [
    "clusters = pd.read_csv('node2vec/multiple_directed_valued_clusters.csv', index_col=0)\n",
    "clusters.sort_values(by='cluster', ascending=False)"
   ]
  },
  {
   "cell_type": "markdown",
   "metadata": {},
   "source": [
    "We can get the cluster to which each participant belong and thus see the membership of those participant to which an ego is connected:"
   ]
  },
  {
   "cell_type": "code",
   "execution_count": 7,
   "metadata": {
    "scrolled": true
   },
   "outputs": [
    {
     "data": {
      "text/html": [
       "<div>\n",
       "<style scoped>\n",
       "    .dataframe tbody tr th:only-of-type {\n",
       "        vertical-align: middle;\n",
       "    }\n",
       "\n",
       "    .dataframe tbody tr th {\n",
       "        vertical-align: top;\n",
       "    }\n",
       "\n",
       "    .dataframe thead th {\n",
       "        text-align: right;\n",
       "    }\n",
       "</style>\n",
       "<table border=\"1\" class=\"dataframe\">\n",
       "  <thead>\n",
       "    <tr style=\"text-align: right;\">\n",
       "      <th></th>\n",
       "      <th>0</th>\n",
       "    </tr>\n",
       "  </thead>\n",
       "  <tbody>\n",
       "    <tr>\n",
       "      <th>YHWH</th>\n",
       "      <td>2</td>\n",
       "    </tr>\n",
       "    <tr>\n",
       "      <th>Aaron</th>\n",
       "      <td>2</td>\n",
       "    </tr>\n",
       "    <tr>\n",
       "      <th>sojourner</th>\n",
       "      <td>2</td>\n",
       "    </tr>\n",
       "    <tr>\n",
       "      <th>Aaron's_sons</th>\n",
       "      <td>2</td>\n",
       "    </tr>\n",
       "    <tr>\n",
       "      <th>an_Israelite</th>\n",
       "      <td>2</td>\n",
       "    </tr>\n",
       "    <tr>\n",
       "      <th>foreign_nations</th>\n",
       "      <td>1</td>\n",
       "    </tr>\n",
       "    <tr>\n",
       "      <th>blasphemer</th>\n",
       "      <td>1</td>\n",
       "    </tr>\n",
       "    <tr>\n",
       "      <th>sister</th>\n",
       "      <td>1</td>\n",
       "    </tr>\n",
       "    <tr>\n",
       "      <th>remnants</th>\n",
       "      <td>1</td>\n",
       "    </tr>\n",
       "    <tr>\n",
       "      <th>Moses</th>\n",
       "      <td>1</td>\n",
       "    </tr>\n",
       "    <tr>\n",
       "      <th>brother</th>\n",
       "      <td>1</td>\n",
       "    </tr>\n",
       "    <tr>\n",
       "      <th>fellow's_wife</th>\n",
       "      <td>1</td>\n",
       "    </tr>\n",
       "    <tr>\n",
       "      <th>idols</th>\n",
       "      <td>1</td>\n",
       "    </tr>\n",
       "    <tr>\n",
       "      <th>man/woman</th>\n",
       "      <td>0</td>\n",
       "    </tr>\n",
       "    <tr>\n",
       "      <th>mother</th>\n",
       "      <td>0</td>\n",
       "    </tr>\n",
       "    <tr>\n",
       "      <th>woman_and_her_mother</th>\n",
       "      <td>0</td>\n",
       "    </tr>\n",
       "    <tr>\n",
       "      <th>handmaid</th>\n",
       "      <td>0</td>\n",
       "    </tr>\n",
       "    <tr>\n",
       "      <th>sons_of_sojourners</th>\n",
       "      <td>0</td>\n",
       "    </tr>\n",
       "    <tr>\n",
       "      <th>no-one</th>\n",
       "      <td>0</td>\n",
       "    </tr>\n",
       "    <tr>\n",
       "      <th>daughter-in-law</th>\n",
       "      <td>0</td>\n",
       "    </tr>\n",
       "    <tr>\n",
       "      <th>father</th>\n",
       "      <td>0</td>\n",
       "    </tr>\n",
       "    <tr>\n",
       "      <th>aunt-in-law</th>\n",
       "      <td>0</td>\n",
       "    </tr>\n",
       "    <tr>\n",
       "      <th>father's_wife</th>\n",
       "      <td>0</td>\n",
       "    </tr>\n",
       "    <tr>\n",
       "      <th>granddaughter</th>\n",
       "      <td>0</td>\n",
       "    </tr>\n",
       "    <tr>\n",
       "      <th>children</th>\n",
       "      <td>0</td>\n",
       "    </tr>\n",
       "    <tr>\n",
       "      <th>aunt</th>\n",
       "      <td>0</td>\n",
       "    </tr>\n",
       "  </tbody>\n",
       "</table>\n",
       "</div>"
      ],
      "text/plain": [
       "                      0\n",
       "YHWH                  2\n",
       "Aaron                 2\n",
       "sojourner             2\n",
       "Aaron's_sons          2\n",
       "an_Israelite          2\n",
       "foreign_nations       1\n",
       "blasphemer            1\n",
       "sister                1\n",
       "remnants              1\n",
       "Moses                 1\n",
       "brother               1\n",
       "fellow's_wife         1\n",
       "idols                 1\n",
       "man/woman             0\n",
       "mother                0\n",
       "woman_and_her_mother  0\n",
       "handmaid              0\n",
       "sons_of_sojourners    0\n",
       "no-one                0\n",
       "daughter-in-law       0\n",
       "father                0\n",
       "aunt-in-law           0\n",
       "father's_wife         0\n",
       "granddaughter         0\n",
       "children              0\n",
       "aunt                  0"
      ]
     },
     "execution_count": 7,
     "metadata": {},
     "output_type": "execute_result"
    }
   ],
   "source": [
    "def getGroups(G, ego, clusters=clusters):\n",
    "    \n",
    "    cluster_dict = {}\n",
    "    \n",
    "    ego_graph = nx.ego_graph(G, ego, undirected=True)\n",
    "    for r in list(ego_graph.nodes()):\n",
    "        cluster_dict[r] = clusters[clusters.index == r].cluster.item()\n",
    "    \n",
    "    df = pd.DataFrame([cluster_dict]).T.sort_values(by=0, ascending=False)\n",
    "    df = df[df.index != ego]\n",
    "    return df\n",
    "\n",
    "getGroups(G, 'Israelites')"
   ]
  },
  {
   "cell_type": "markdown",
   "metadata": {},
   "source": [
    "Which participant has connections to most core participants?"
   ]
  },
  {
   "cell_type": "code",
   "execution_count": 8,
   "metadata": {
    "scrolled": true
   },
   "outputs": [
    {
     "ename": "ValueError",
     "evalue": "can only convert an array of size 1 to a Python scalar",
     "output_type": "error",
     "traceback": [
      "\u001b[1;31m---------------------------------------------------------------------------\u001b[0m",
      "\u001b[1;31mValueError\u001b[0m                                Traceback (most recent call last)",
      "\u001b[1;32mC:\\Users\\CHRIST~1\\AppData\\Local\\Temp/ipykernel_17628/4159560829.py\u001b[0m in \u001b[0;36m<module>\u001b[1;34m\u001b[0m\n\u001b[0;32m      1\u001b[0m \u001b[1;32mfor\u001b[0m \u001b[0mactor\u001b[0m \u001b[1;32min\u001b[0m \u001b[0mlist\u001b[0m\u001b[1;33m(\u001b[0m\u001b[0mG\u001b[0m\u001b[1;33m.\u001b[0m\u001b[0mnodes\u001b[0m\u001b[1;33m(\u001b[0m\u001b[1;33m)\u001b[0m\u001b[1;33m)\u001b[0m\u001b[1;33m:\u001b[0m\u001b[1;33m\u001b[0m\u001b[1;33m\u001b[0m\u001b[0m\n\u001b[1;32m----> 2\u001b[1;33m     \u001b[0mgroups\u001b[0m \u001b[1;33m=\u001b[0m \u001b[0mgetGroups\u001b[0m\u001b[1;33m(\u001b[0m\u001b[0mG\u001b[0m\u001b[1;33m,\u001b[0m \u001b[0mactor\u001b[0m\u001b[1;33m)\u001b[0m\u001b[1;33m\u001b[0m\u001b[1;33m\u001b[0m\u001b[0m\n\u001b[0m\u001b[0;32m      3\u001b[0m \u001b[1;33m\u001b[0m\u001b[0m\n\u001b[0;32m      4\u001b[0m     \u001b[0mprint\u001b[0m\u001b[1;33m(\u001b[0m\u001b[0mactor\u001b[0m\u001b[1;33m,\u001b[0m \u001b[0mlen\u001b[0m\u001b[1;33m(\u001b[0m\u001b[0mgroups\u001b[0m\u001b[1;33m[\u001b[0m\u001b[0mgroups\u001b[0m\u001b[1;33m[\u001b[0m\u001b[1;36m0\u001b[0m\u001b[1;33m]\u001b[0m \u001b[1;33m==\u001b[0m \u001b[1;36m2\u001b[0m\u001b[1;33m]\u001b[0m\u001b[1;33m)\u001b[0m\u001b[1;33m)\u001b[0m\u001b[1;33m\u001b[0m\u001b[1;33m\u001b[0m\u001b[0m\n\u001b[0;32m      5\u001b[0m \u001b[1;33m\u001b[0m\u001b[0m\n",
      "\u001b[1;32mC:\\Users\\CHRIST~1\\AppData\\Local\\Temp/ipykernel_17628/586387850.py\u001b[0m in \u001b[0;36mgetGroups\u001b[1;34m(G, ego, clusters)\u001b[0m\n\u001b[0;32m      5\u001b[0m     \u001b[0mego_graph\u001b[0m \u001b[1;33m=\u001b[0m \u001b[0mnx\u001b[0m\u001b[1;33m.\u001b[0m\u001b[0mego_graph\u001b[0m\u001b[1;33m(\u001b[0m\u001b[0mG\u001b[0m\u001b[1;33m,\u001b[0m \u001b[0mego\u001b[0m\u001b[1;33m,\u001b[0m \u001b[0mundirected\u001b[0m\u001b[1;33m=\u001b[0m\u001b[1;32mTrue\u001b[0m\u001b[1;33m)\u001b[0m\u001b[1;33m\u001b[0m\u001b[1;33m\u001b[0m\u001b[0m\n\u001b[0;32m      6\u001b[0m     \u001b[1;32mfor\u001b[0m \u001b[0mr\u001b[0m \u001b[1;32min\u001b[0m \u001b[0mlist\u001b[0m\u001b[1;33m(\u001b[0m\u001b[0mego_graph\u001b[0m\u001b[1;33m.\u001b[0m\u001b[0mnodes\u001b[0m\u001b[1;33m(\u001b[0m\u001b[1;33m)\u001b[0m\u001b[1;33m)\u001b[0m\u001b[1;33m:\u001b[0m\u001b[1;33m\u001b[0m\u001b[1;33m\u001b[0m\u001b[0m\n\u001b[1;32m----> 7\u001b[1;33m         \u001b[0mcluster_dict\u001b[0m\u001b[1;33m[\u001b[0m\u001b[0mr\u001b[0m\u001b[1;33m]\u001b[0m \u001b[1;33m=\u001b[0m \u001b[0mclusters\u001b[0m\u001b[1;33m[\u001b[0m\u001b[0mclusters\u001b[0m\u001b[1;33m.\u001b[0m\u001b[0mindex\u001b[0m \u001b[1;33m==\u001b[0m \u001b[0mr\u001b[0m\u001b[1;33m]\u001b[0m\u001b[1;33m.\u001b[0m\u001b[0mcluster\u001b[0m\u001b[1;33m.\u001b[0m\u001b[0mitem\u001b[0m\u001b[1;33m(\u001b[0m\u001b[1;33m)\u001b[0m\u001b[1;33m\u001b[0m\u001b[1;33m\u001b[0m\u001b[0m\n\u001b[0m\u001b[0;32m      8\u001b[0m \u001b[1;33m\u001b[0m\u001b[0m\n\u001b[0;32m      9\u001b[0m     \u001b[0mdf\u001b[0m \u001b[1;33m=\u001b[0m \u001b[0mpd\u001b[0m\u001b[1;33m.\u001b[0m\u001b[0mDataFrame\u001b[0m\u001b[1;33m(\u001b[0m\u001b[1;33m[\u001b[0m\u001b[0mcluster_dict\u001b[0m\u001b[1;33m]\u001b[0m\u001b[1;33m)\u001b[0m\u001b[1;33m.\u001b[0m\u001b[0mT\u001b[0m\u001b[1;33m.\u001b[0m\u001b[0msort_values\u001b[0m\u001b[1;33m(\u001b[0m\u001b[0mby\u001b[0m\u001b[1;33m=\u001b[0m\u001b[1;36m0\u001b[0m\u001b[1;33m,\u001b[0m \u001b[0mascending\u001b[0m\u001b[1;33m=\u001b[0m\u001b[1;32mFalse\u001b[0m\u001b[1;33m)\u001b[0m\u001b[1;33m\u001b[0m\u001b[1;33m\u001b[0m\u001b[0m\n",
      "\u001b[1;32m~\\anaconda3\\lib\\site-packages\\pandas\\core\\base.py\u001b[0m in \u001b[0;36mitem\u001b[1;34m(self)\u001b[0m\n\u001b[0;32m    329\u001b[0m         \u001b[1;32mif\u001b[0m \u001b[0mlen\u001b[0m\u001b[1;33m(\u001b[0m\u001b[0mself\u001b[0m\u001b[1;33m)\u001b[0m \u001b[1;33m==\u001b[0m \u001b[1;36m1\u001b[0m\u001b[1;33m:\u001b[0m\u001b[1;33m\u001b[0m\u001b[1;33m\u001b[0m\u001b[0m\n\u001b[0;32m    330\u001b[0m             \u001b[1;32mreturn\u001b[0m \u001b[0mnext\u001b[0m\u001b[1;33m(\u001b[0m\u001b[0miter\u001b[0m\u001b[1;33m(\u001b[0m\u001b[0mself\u001b[0m\u001b[1;33m)\u001b[0m\u001b[1;33m)\u001b[0m\u001b[1;33m\u001b[0m\u001b[1;33m\u001b[0m\u001b[0m\n\u001b[1;32m--> 331\u001b[1;33m         \u001b[1;32mraise\u001b[0m \u001b[0mValueError\u001b[0m\u001b[1;33m(\u001b[0m\u001b[1;34m\"can only convert an array of size 1 to a Python scalar\"\u001b[0m\u001b[1;33m)\u001b[0m\u001b[1;33m\u001b[0m\u001b[1;33m\u001b[0m\u001b[0m\n\u001b[0m\u001b[0;32m    332\u001b[0m \u001b[1;33m\u001b[0m\u001b[0m\n\u001b[0;32m    333\u001b[0m     \u001b[1;33m@\u001b[0m\u001b[0mproperty\u001b[0m\u001b[1;33m\u001b[0m\u001b[1;33m\u001b[0m\u001b[0m\n",
      "\u001b[1;31mValueError\u001b[0m: can only convert an array of size 1 to a Python scalar"
     ]
    }
   ],
   "source": [
    "for actor in list(G.nodes()):\n",
    "    groups = getGroups(G, actor)\n",
    "    \n",
    "    print(actor, len(groups[groups[0] == 2]))\n",
    "    "
   ]
  },
  {
   "cell_type": "markdown",
   "metadata": {},
   "source": [
    "## Draw egonetworks"
   ]
  },
  {
   "cell_type": "code",
   "execution_count": 9,
   "metadata": {},
   "outputs": [],
   "source": [
    "def draw_ego(graph, actor, size=(10,10), data=data, save=False, bw=False):    \n",
    "    plt.figure(figsize = size)\n",
    "\n",
    "    ego = nx.ego_graph(graph, actor, undirected=True, radius=1)\n",
    "    \n",
    "    #Print edge labels\n",
    "    edge_labels = collections.defaultdict(set)\n",
    "    \n",
    "    for e in ego.edges(data='value'):\n",
    "        edge_labels[(e[0],e[1])].add(e[2])\n",
    "        \n",
    "    for e in edge_labels:\n",
    "        print('''{0:30}{1:30}'''.format(' -> '.join(e), ', '.join(edge_labels[e])))\n",
    "\n",
    "    pos=nx.spring_layout(ego)\n",
    "    nx.draw(\n",
    "        ego,\n",
    "        pos=pos,\n",
    "        with_labels=True,\n",
    "        edge_color='grey',\n",
    "        node_color='lightgrey' if bw else 'lightblue',\n",
    "        node_size=[n[1]*10 for n in ego.degree()],\n",
    "        font_size=14\n",
    "        )\n",
    "    nx.draw_networkx_nodes(ego, pos=pos, nodelist=[actor], node_color='lightgrey' if bw else 'salmon', node_size=ego.degree(actor)*10)\n",
    "    plt.margins(x=0.1, y=0.1)\n",
    "    if save:\n",
    "        plt.savefig(fname=f'images/{save}.png', dpi=500)\n",
    "    plt.show()"
   ]
  },
  {
   "cell_type": "code",
   "execution_count": 10,
   "metadata": {
    "scrolled": false
   },
   "outputs": [
    {
     "name": "stdout",
     "output_type": "stream",
     "text": [
      "blasphemer -> YHWH            bore                          \n",
      "blasphemer -> Israelites      go out                        \n",
      "Moses -> Israelites           command, speak, say           \n",
      "Moses -> blasphemer           go out                        \n",
      "Israelites -> blasphemer      go out, stone                 \n",
      "Israelites -> Moses           take                          \n",
      "Israelites -> YHWH            be high, slaughter, swear, approach, give, abhor, defile, walk, be holy, hear, rejoice, come, admonish\n",
      "YHWH -> Moses                 speak, command, say           \n",
      "YHWH -> Israelites            be empty, send, separate, walk, miss, be holy, be fertile, say, sit, command, be many, give, scatter, go out, turn, make, come, strike, arise, add, break, admonish\n",
      "witnesses -> Moses            come                          \n",
      "witnesses -> blasphemer       settle, come, support         \n"
     ]
    },
    {
     "data": {
      "image/png": "[encoded data removed]",
      "text/plain": [
       "<Figure size 360x360 with 1 Axes>"
      ]
     },
     "metadata": {},
     "output_type": "display_data"
    }
   ],
   "source": [
    "draw_ego(G, \"blasphemer\", size=(5,5), save='7.24a')"
   ]
  },
  {
   "cell_type": "markdown",
   "metadata": {},
   "source": [
    "## Node removal and cohesion\n",
    "\n",
    "We can measure the structural importance of a participant by performing a 'removal test'. A removal test computes the resulting density of the network when removing a participant. The participant which causes the largest loss of network density by its removal is the structurally most important participant. "
   ]
  },
  {
   "cell_type": "code",
   "execution_count": 11,
   "metadata": {},
   "outputs": [
    {
     "data": {
      "text/plain": [
       "20"
      ]
     },
     "execution_count": 11,
     "metadata": {},
     "output_type": "execute_result"
    }
   ],
   "source": [
    "len(nx.ego_graph(G, 'sojourner', undirected=True, radius=1).nodes)"
   ]
  },
  {
   "cell_type": "code",
   "execution_count": 12,
   "metadata": {},
   "outputs": [],
   "source": [
    "def removalTest(ego):\n",
    "    \n",
    "    density_dict = {}\n",
    "    for n in ego.nodes():\n",
    "        remove = [l for l in ego.nodes() if l!=n]\n",
    "        new_graph = ego.subgraph(remove)\n",
    "        density_dict[n] = nx.density(new_graph)\n",
    "\n",
    "    removal_df = pd.DataFrame([density_dict]).T\n",
    "    removal_df.columns=['density']\n",
    "    return removal_df\n",
    "\n",
    "#removalTest(G)"
   ]
  },
  {
   "cell_type": "code",
   "execution_count": 13,
   "metadata": {
    "scrolled": false
   },
   "outputs": [
    {
     "name": "stdout",
     "output_type": "stream",
     "text": [
      "Original density of egonetwork: 4.333333333333333\n"
     ]
    },
    {
     "data": {
      "image/png": "[encoded data removed]",
      "text/plain": [
       "<Figure size 504x504 with 1 Axes>"
      ]
     },
     "metadata": {
      "needs_background": "light"
     },
     "output_type": "display_data"
    }
   ],
   "source": [
    "def plotDF(graph, column, actor=str(), typ='ego', plot_graph=False, line=True, save=str()):\n",
    "    '''\n",
    "    It is possible to make a removal test for an ego-network (type='ego') and the entire graph ('graph')\n",
    "    '''\n",
    "\n",
    "    if typ == 'ego':\n",
    "        ego = nx.ego_graph(graph, actor, undirected=True)\n",
    "        df = removalTest(ego)\n",
    "        df = df.sort_values(by=column, ascending=False).tail(15)\n",
    "        ego_index = df.index.get_loc(actor)\n",
    "        density = nx.density(ego)\n",
    "        print(f'Original density of egonetwork: {density}')\n",
    " \n",
    "    elif typ == 'graph':\n",
    "        df = removalTest(graph)\n",
    "        df = df.sort_values(by=column, ascending=False).tail(15)\n",
    "        density = nx.density(graph)\n",
    "        print(f'Original density of network: {density}')\n",
    "    \n",
    "    fig, ax = plt.subplots(figsize=(len(df),7))\n",
    "    plot = plt.plot(df.index, df[column], linewidth=3)\n",
    "    if actor:\n",
    "        actor_x = df.index.get_loc(actor)\n",
    "        actor_y = df[df.index == actor].density.item()\n",
    "        plt.plot([actor_x], [actor_y], marker=\"o\", markeredgecolor=\"white\", markersize=15)\n",
    "    plt.ylabel(\"density\", size=20)\n",
    "    plt.xticks(size=16, rotation=45, ha='right')\n",
    "    plt.yticks(size=16)\n",
    "    \n",
    "    if line:\n",
    "        plt.axhline(y=density, linestyle='dashed', color='grey')\n",
    "    \n",
    "    # draw graph in inset\n",
    "    if plot_graph:\n",
    "        plt.axes([0.4, 0.4, 0.5, 0.5])\n",
    "        nodes = list(df.index)\n",
    "\n",
    "        subgraph = graph.subgraph(nodes)\n",
    "        pos = nx.spring_layout(subgraph)\n",
    "        nx.draw(\n",
    "            subgraph,\n",
    "            pos=pos,\n",
    "            with_labels=True,\n",
    "            edge_color='grey',\n",
    "            node_color='lightblue',\n",
    "            font_size=14\n",
    "            )\n",
    "        nx.draw_networkx_nodes(subgraph, pos=pos, nodelist=[ego], node_color='salmon')\n",
    "\n",
    "        plt.axis('off')\n",
    "        \n",
    "    if save:   \n",
    "        plt.savefig(f'images/{save}', bbox_inches='tight', dpi=500)\n",
    "\n",
    "plotDF(G, actor=\"Moses\", column='density', typ='ego', line=True)"
   ]
  },
  {
   "cell_type": "code",
   "execution_count": null,
   "metadata": {},
   "outputs": [],
   "source": [
    "plotDF(G, column='density', typ='graph', line=True, save='7.13.png')"
   ]
  },
  {
   "cell_type": "markdown",
   "metadata": {},
   "source": [
    "### Agency and roles\n",
    "\n",
    "By importing the participant data of Leviticus 17-26 we get additional means to show the participants and their networks."
   ]
  },
  {
   "cell_type": "code",
   "execution_count": null,
   "metadata": {
    "scrolled": false
   },
   "outputs": [],
   "source": [
    "from tf.app import use\n",
    "A = use('etcbc/bhsa', version='c', hoist=globals(), mod='ch-jensen/participants/actor/tf')"
   ]
  },
  {
   "cell_type": "code",
   "execution_count": null,
   "metadata": {},
   "outputs": [],
   "source": [
    "plotDF(G, actor=\"Moses\", column='density', typ='ego', line=True)"
   ]
  },
  {
   "cell_type": "markdown",
   "metadata": {},
   "source": [
    "#### Roles\n",
    "\n",
    "We can calculate the mean agency invested by a participant in each of its relationships. This provides a simple visualization of its role in all its relationships."
   ]
  },
  {
   "cell_type": "code",
   "execution_count": null,
   "metadata": {},
   "outputs": [],
   "source": [
    "def Roles(actor, data=data, width=int(), bw=False, save=False):\n",
    "    \n",
    "    agency = []\n",
    "    df = data[(data.Source == actor) | (data.Target == actor)]\n",
    "    \n",
    "    for n, row in df.iterrows():\n",
    "        if row.Source == actor:\n",
    "            agency.append((row.Target,row.Source_agency))\n",
    "        else:\n",
    "            agency.append((row.Source,row.Target_agency))\n",
    "\n",
    "    new_df = pd.DataFrame(agency)\n",
    "    new_df.columns = ['participant', 'agency']\n",
    "\n",
    "    mean = new_df.groupby('participant')['agency'].mean().sort_values()\n",
    "    mean_df = pd.DataFrame(mean)\n",
    "    print(f'Mean agency of {actor}: {round(new_df.agency.mean(), 3)}')\n",
    "    \n",
    "    custom_palette = {}\n",
    "    for n, row in mean_df.iterrows():\n",
    "        if row.agency < -1:\n",
    "            custom_palette[n] = \"#d9dddc\" if bw else \"#E50600\" \n",
    "        elif row.agency >= -1 and row.agency < 0:\n",
    "            custom_palette[n] = \"#d0d4d4\" if bw else \"#ED5955\"\n",
    "        elif row.agency >= 0 and row.agency < 1:\n",
    "            custom_palette[n] = \"#c7cbcb\" if bw else \"#D2E3F0\" \n",
    "        elif row.agency >= 1 and row.agency < 2:\n",
    "            custom_palette[n] = \"#bdc3c2\" if bw else \"#A5C8E1\"\n",
    "        elif row.agency >= 2 and row.agency < 3:\n",
    "            custom_palette[n] = \"#b4bab9\" if bw else \"#78ADD2\"\n",
    "        elif row.agency >= 3 and row.agency < 4:\n",
    "            custom_palette[n] = \"#aab2b1\" if bw else \"#4B92C3\"\n",
    "        elif row.agency >= 4:\n",
    "            custom_palette[n] = \"#a1a9a8\" if bw else \"#1f77b4\"\n",
    "            \n",
    "    g= sns.catplot(x='participant', y='agency', kind='bar', order=mean.index, data=new_df, palette=custom_palette)\n",
    "    g.fig.set_size_inches(len(mean_df)*width,5)\n",
    "    plt.ylabel('mean agency', size=20)\n",
    "    plt.xlabel('')\n",
    "    plt.yticks(size=16)\n",
    "    plt.xticks(size=16, rotation=45, ha='right')\n",
    "    \n",
    "    if save:\n",
    "        plt.savefig(fname=f'images/{save}.png', dpi=500, bbox_inches='tight')\n",
    "\n",
    "    plt.show()\n",
    "\n",
    "Roles('2MSg', width=0.6, save='7.16')"
   ]
  },
  {
   "cell_type": "code",
   "execution_count": null,
   "metadata": {},
   "outputs": [],
   "source": [
    "Roles('father', width=0.7, save='7.26')"
   ]
  },
  {
   "cell_type": "markdown",
   "metadata": {},
   "source": [
    "#### Show interactions\n",
    "\n",
    "We can also show can also show specific interactions between two participants:"
   ]
  },
  {
   "cell_type": "code",
   "execution_count": null,
   "metadata": {
    "scrolled": true
   },
   "outputs": [],
   "source": [
    "def show(Actor, Undergoer, verb=list(), data=data):\n",
    "    \n",
    "    clauses = []\n",
    "    \n",
    "    if verb:\n",
    "        clauses = data[(data.Source == Actor) & (data.Target == Undergoer) & (data.Label.isin(verb))].Clause\n",
    "    else:\n",
    "        clauses = data[(data.Source == Actor) & (data.Target == Undergoer)].Clause\n",
    "    \n",
    "    if clauses.any():\n",
    "        \n",
    "        #Write clause references\n",
    "        clause_list = list(set(clauses))\n",
    "        clause_list.sort()\n",
    "        \n",
    "        ref_string = '''{} {}:{}'''.format(*T.sectionFromNode(clause_list[0]))\n",
    "        for cl in clause_list[1:]:\n",
    "            bo, ch, ve = T.sectionFromNode(cl)\n",
    "            \n",
    "            prec_cl = clause_list.index(cl)-1\n",
    "            prec_bo, prec_ch, prec_ve = T.sectionFromNode(clause_list[prec_cl])\n",
    "            if ch == prec_ch and ve == prec_ve:\n",
    "                if '×' in ref_string[-3]:\n",
    "                    indices = (ref_string.rindex('×'), ref_string.rindex(')'))\n",
    "                    existing_value = ref_string[indices[0]+1:indices[1]]\n",
    "                    new_value = str(int(existing_value)+1)\n",
    "                    ref_string = ref_string[:indices[0]+1] + new_value + ref_string[indices[0]+len(new_value)+1:]\n",
    "                else:\n",
    "                    ref_string += f' (×2)'\n",
    "            elif ch == prec_ch:\n",
    "                ref_string += f', {ve}'\n",
    "            else:\n",
    "                ref_string += f'; {ch}:{ve}'\n",
    "                    \n",
    "        print(f'{ref_string}.')\n",
    "        \n",
    "        #Display clauses\n",
    "        for cl in clause_list:\n",
    "            A.pretty(cl)\n",
    "            \n",
    "    else:\n",
    "        return \"No relevant clauses to return\""
   ]
  },
  {
   "cell_type": "code",
   "execution_count": null,
   "metadata": {
    "scrolled": true
   },
   "outputs": [],
   "source": [
    "show(\"2msg\",\"poor\")"
   ]
  },
  {
   "cell_type": "code",
   "execution_count": null,
   "metadata": {
    "scrolled": true
   },
   "outputs": [],
   "source": [
    "show(\"sojourner\",\"brother\")"
   ]
  },
  {
   "cell_type": "markdown",
   "metadata": {},
   "source": [
    "### Case-study: The women\n",
    "\n",
    "We can make specific casestudies of particular participants by collapsing the participants into group. In this case, we collapse all women of the network into one participants in order to see more general trends."
   ]
  },
  {
   "cell_type": "code",
   "execution_count": null,
   "metadata": {
    "scrolled": true
   },
   "outputs": [],
   "source": [
    "def contractNodes(G, new_label, nodes_to_contract):\n",
    "    \n",
    "    for n in nodes_to_contract[1:]: #Contract nodes with the first node of the list\n",
    "        G = nx.contracted_nodes(G, nodes_to_contract[0], n)\n",
    "        \n",
    "    G = nx.relabel_nodes(G, {nodes_to_contract[0]: new_label}, copy=True)\n",
    "    \n",
    "    return G"
   ]
  },
  {
   "cell_type": "code",
   "execution_count": null,
   "metadata": {},
   "outputs": [],
   "source": [
    "contract_women = ['mother','virgin','widowed/expelled/defiled_woman', 'handmaid',\"father's_wife\",'aunt', 'aunt-in-law',\n",
    "                  'daughter-in-law', 'granddaughter','woman_and_her_mother','man/woman', 'woman_in_menstruation','relative',\n",
    "                  'woman','woman_and_her_daughter','granddaughter_of_woman','sister_of_woman','sister',\"fellow's_wife\",\n",
    "                  'daughter']\n",
    "\n",
    "G_women = contractNodes(G, 'women', contract_women)\n",
    "\n",
    "data_women = data.replace(contract_women, 'women')"
   ]
  },
  {
   "cell_type": "code",
   "execution_count": null,
   "metadata": {
    "scrolled": true
   },
   "outputs": [],
   "source": [
    "draw_ego(G_women, 'sojourner')"
   ]
  },
  {
   "cell_type": "code",
   "execution_count": null,
   "metadata": {},
   "outputs": [],
   "source": [
    "Roles('women', data_women, save='7.25')"
   ]
  },
  {
   "cell_type": "code",
   "execution_count": null,
   "metadata": {},
   "outputs": [],
   "source": [
    "show('women',\"kinsmen\", data=data_women)"
   ]
  },
  {
   "cell_type": "code",
   "execution_count": null,
   "metadata": {},
   "outputs": [],
   "source": [
    "show(\"2msg\",'women', data=data_women)"
   ]
  },
  {
   "cell_type": "markdown",
   "metadata": {},
   "source": [
    "### Case-study: The poor, the blind, the deaf, and the elderly"
   ]
  },
  {
   "cell_type": "code",
   "execution_count": null,
   "metadata": {},
   "outputs": [],
   "source": [
    "contract_marg = ['poor','deaf','blind','elderly']\n",
    "\n",
    "G_marginalized = contractNodes(G, 'marginalized', contract_marg)\n",
    "\n",
    "data_marginalized = data.replace(contract_marg, 'marginalized')"
   ]
  },
  {
   "cell_type": "code",
   "execution_count": null,
   "metadata": {},
   "outputs": [],
   "source": [
    "Roles('2ms')"
   ]
  },
  {
   "cell_type": "code",
   "execution_count": null,
   "metadata": {},
   "outputs": [],
   "source": [
    "show('2ms','elderly')"
   ]
  },
  {
   "cell_type": "code",
   "execution_count": null,
   "metadata": {},
   "outputs": [],
   "source": [
    "show('2ms','marginalized', data=data_marginalized)"
   ]
  },
  {
   "cell_type": "markdown",
   "metadata": {},
   "source": [
    "### Case-study: The priests"
   ]
  },
  {
   "cell_type": "code",
   "execution_count": null,
   "metadata": {},
   "outputs": [],
   "source": [
    "G = nx.MultiDiGraph()\n",
    "for n, row in data.iterrows():\n",
    "    G.add_edge(row.Source, row.Target, value=row.Label)"
   ]
  },
  {
   "cell_type": "code",
   "execution_count": null,
   "metadata": {},
   "outputs": [],
   "source": [
    "G_priests = nx.contracted_nodes(G, \"Aaron's_sons\", \"Aaron\")\n",
    "G_priests = nx.relabel_nodes(G_priests, {\"Aaron's_sons\":'priests'}, copy=True)"
   ]
  },
  {
   "cell_type": "code",
   "execution_count": null,
   "metadata": {},
   "outputs": [],
   "source": [
    "data_priests = data.replace(['Aaron',\"Aaron's_sons\"], 'priests')"
   ]
  },
  {
   "cell_type": "code",
   "execution_count": null,
   "metadata": {},
   "outputs": [],
   "source": [
    "plotDF(G_priests, actor=\"priests\", column='density', typ='ego', line=True, save='7.19.png')"
   ]
  },
  {
   "cell_type": "code",
   "execution_count": null,
   "metadata": {},
   "outputs": [],
   "source": [
    "Roles('priests',data_priests, save='7.20')"
   ]
  },
  {
   "cell_type": "code",
   "execution_count": null,
   "metadata": {
    "scrolled": true
   },
   "outputs": [],
   "source": [
    "show('lay-person', 'priests', data=data_priests)"
   ]
  },
  {
   "cell_type": "code",
   "execution_count": null,
   "metadata": {},
   "outputs": [],
   "source": [
    "show('priests', 'YHWH', data=data_priests)"
   ]
  },
  {
   "cell_type": "markdown",
   "metadata": {},
   "source": [
    "### Case-study: The sojourner\n",
    "\n",
    "The sojourner is a curious participant in the network. On the hand, Leviticus 17-26 gives the impression that the sojourner is generally a person on the margins of society. However, in the network, he is situated safely at the core of the network. The network may be misleading because the native Israelites are distinguished as the collective group (\"Israelites\"), an individual Israelite addressee (\"2ms\") and an individual, third-person Israelite (\"an_Israelite\"). Of course, many other participants (e.g. the mother and the father) also belong to the Israelites as an ethnic category. In the text, however, they are not so much distinguished in terms of ethnicitiy as in terms of social role. Therefore, these other roles will be retained. The first three, however, will be merged into a single role in order to explore the role of the sojourner in contrast to Israelites:"
   ]
  },
  {
   "cell_type": "code",
   "execution_count": null,
   "metadata": {},
   "outputs": [],
   "source": [
    "G = nx.MultiDiGraph()\n",
    "for n, row in data.iterrows():\n",
    "    G.add_edge(row.Source, row.Target, value=row.Label)"
   ]
  },
  {
   "cell_type": "code",
   "execution_count": null,
   "metadata": {},
   "outputs": [],
   "source": [
    "G1 = nx.contracted_nodes(G, \"Israelites\", \"2MSg\")\n",
    "G1 = nx.contracted_nodes(G1, \"Israelites\", \"an_Israelite\")"
   ]
  },
  {
   "cell_type": "code",
   "execution_count": null,
   "metadata": {
    "scrolled": false
   },
   "outputs": [],
   "source": [
    "draw_ego(G1, \"Israelites\")"
   ]
  },
  {
   "cell_type": "markdown",
   "metadata": {},
   "source": [
    "We want to contrast the sojourner and the Israelites. First, we query whether the sojourner has connections which the Israelites do not have:"
   ]
  },
  {
   "cell_type": "code",
   "execution_count": null,
   "metadata": {
    "scrolled": false
   },
   "outputs": [],
   "source": [
    "def getEdgeLabels(graph, ego):\n",
    "    \n",
    "    ego_graph = nx.ego_graph(graph, ego, undirected=True)\n",
    "\n",
    "    #get edge labels\n",
    "    edge_labels = collections.defaultdict(set)\n",
    "    for e in ego_graph.edges(data='value'):\n",
    "        edge_labels[(e[0],e[1])].add(e[2])\n",
    "\n",
    "    return edge_labels\n",
    "\n",
    "def contrastConnections(graph, ego, alter):\n",
    "    \n",
    "    edge_labels = getEdgeLabels(graph, ego)\n",
    "\n",
    "    differences = []\n",
    "    for e in edge_labels:\n",
    "        if e[0] == alter and (ego,e[1]) not in edge_labels:\n",
    "            differences.append(e)\n",
    "        elif e[0] == ego and (alter,e[1]) not in edge_labels:\n",
    "            differences.append(e)\n",
    "        elif e[1] == alter and (e[0],ego) not in edge_labels:\n",
    "            differences.append(e)\n",
    "        elif e[1] == ego and (e[0],alter) not in edge_labels:\n",
    "            differences.append(e)\n",
    "\n",
    "    print(f'Different connections of {ego} and {alter}:')\n",
    "    for e in differences:\n",
    "        print('''  {}'''.format(' -> '.join(e)))\n",
    "        \n",
    "contrastConnections(G1, ego='sojourner', alter='Israelites')"
   ]
  },
  {
   "cell_type": "markdown",
   "metadata": {},
   "source": [
    "Next, we want to explore whether the common relationships of the sojourner and the Israelies are different in terms of content (that is, the verb):"
   ]
  },
  {
   "cell_type": "code",
   "execution_count": null,
   "metadata": {
    "scrolled": false
   },
   "outputs": [],
   "source": [
    "def contrastContent(graph, ego, alter):\n",
    "    \n",
    "    edge_labels = getEdgeLabels(graph, ego)\n",
    "\n",
    "    verb_differences = collections.defaultdict(set)\n",
    "    for e in edge_labels:\n",
    "        if e[0] == alter and (ego,e[1]) in edge_labels:\n",
    "            verb_differences[e[1]].update(edge_labels[e].symmetric_difference(edge_labels[(ego, e[1])]))\n",
    "        elif e[0] == ego and (alter,e[1]) in edge_labels:\n",
    "            verb_differences[e[1]].update(edge_labels[e].symmetric_difference(edge_labels[(alter,e[1])]))\n",
    "        elif e[1] == alter and (e[0],ego) in edge_labels:\n",
    "            verb_differences[e[0]].update(edge_labels[e].symmetric_difference(edge_labels[(e[0],ego)]))\n",
    "        elif e[1] == ego and (e[0],alter) in edge_labels:\n",
    "            verb_differences[e[0]].update(edge_labels[e].symmetric_difference(edge_labels[(e[0], alter)]))\n",
    "            \n",
    "    return verb_differences\n",
    "        \n",
    "contrastContent(G1, 'sojourner', 'Israelites')"
   ]
  },
  {
   "cell_type": "code",
   "execution_count": null,
   "metadata": {
    "scrolled": false
   },
   "outputs": [],
   "source": [
    "plotDF(G1, column=\"density\", actor=\"sojourner\", plot_graph=False, save='7.17.png')"
   ]
  },
  {
   "cell_type": "markdown",
   "metadata": {},
   "source": [
    "#### Agency comparison\n",
    "\n",
    "We want to compare the average ingoing and outgoing agencies for the sojourner and the Israelites to see if there is marked difference. "
   ]
  },
  {
   "cell_type": "code",
   "execution_count": null,
   "metadata": {},
   "outputs": [],
   "source": [
    "df_Israelites = data.replace(['2MSg','an_Israelite'], 'Israelites')\n",
    "df_Israelites = df_Israelites.replace(['mother','virgin','widowed/expelled/defiled_woman','handmaid',\"father's_wife\",\n",
    "                                       'sister','aunt','aunt-in-law','daughter-in-law', \"fellow's_wife\", 'granddaughter',\n",
    "                                       'woman_and_her_mother','man/woman','woman_in_menstruation','daughter','woman',\n",
    "                                       'woman_and_her_daughter','granddaughter_of_woman', 'sister_of_woman'], 'women')\n",
    "\n",
    "df_Israelites.head()"
   ]
  },
  {
   "cell_type": "code",
   "execution_count": null,
   "metadata": {},
   "outputs": [],
   "source": [
    "participants = ['sojourner','Israelites','brother','women']\n",
    "\n",
    "outgoing = df_Israelites[df_Israelites.Source.isin(participants)]\n",
    "ingoing = df_Israelites[df_Israelites.Target.isin(participants)]"
   ]
  },
  {
   "cell_type": "code",
   "execution_count": null,
   "metadata": {},
   "outputs": [],
   "source": [
    "df = pd.melt(df_Israelites, value_vars=['Source','Target'], id_vars=['Weight'])\n",
    "df.columns = ['agency','direction','participant']\n",
    "df = df.replace('Source', 'outgoing')\n",
    "df = df.replace('Target', 'ingoing')\n",
    "df.head()"
   ]
  },
  {
   "cell_type": "code",
   "execution_count": null,
   "metadata": {},
   "outputs": [],
   "source": [
    "df1 = df[df.participant.isin(participants)]"
   ]
  },
  {
   "cell_type": "code",
   "execution_count": null,
   "metadata": {},
   "outputs": [],
   "source": [
    "plt.figure(figsize=(10,5))\n",
    "ax = sns.barplot(x=df1.direction, y=df1.agency,data=df1, hue=df1.participant, ci=\"sd\", hue_order = participants)\n",
    "\n",
    "# Shrink current axis by 20%\n",
    "box = ax.get_position()\n",
    "ax.set_position([box.x0, box.y0, box.width * 0.8, box.height])\n",
    "\n",
    "# Put a legend to the right of the current axis\n",
    "ax.legend(loc='center left', bbox_to_anchor=(1, 0.5), fontsize=14)\n",
    "\n",
    "plt.xticks(size=12)\n",
    "plt.yticks(size=12)\n",
    "plt.xlabel('')\n",
    "plt.ylabel('agency', size=14)\n",
    "\n",
    "plt.show()"
   ]
  },
  {
   "cell_type": "code",
   "execution_count": null,
   "metadata": {},
   "outputs": [],
   "source": [
    "Roles('sojourner', df_Israelites, save='7.18')"
   ]
  },
  {
   "cell_type": "code",
   "execution_count": null,
   "metadata": {
    "scrolled": true
   },
   "outputs": [],
   "source": [
    "show('Israelites',\"sojourner\", data=df_Israelites)"
   ]
  },
  {
   "cell_type": "code",
   "execution_count": null,
   "metadata": {},
   "outputs": [],
   "source": [
    "show('Israelites','YHWH', data=df_Israelites)"
   ]
  }
 ],
 "metadata": {
  "kernelspec": {
   "display_name": "Python 3 (ipykernel)",
   "language": "python",
   "name": "python3"
  },
  "language_info": {
   "codemirror_mode": {
    "name": "ipython",
    "version": 3
   },
   "file_extension": ".py",
   "mimetype": "text/x-python",
   "name": "python",
   "nbconvert_exporter": "python",
   "pygments_lexer": "ipython3",
   "version": "3.9.7"
  }
 },
 "nbformat": 4,
 "nbformat_minor": 2
}
